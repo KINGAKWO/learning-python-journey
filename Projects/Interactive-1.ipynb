{
 "cells": [
  {
   "cell_type": "markdown",
   "metadata": {},
   "source": [
    "Connected to Python 3.13.3"
   ]
  },
  {
   "cell_type": "code",
   "execution_count": 1,
   "id": "75568976-102a-4770-8dd6-9f27088a63d8",
   "metadata": {},
   "outputs": [
    {
     "name": "stdout",
     "output_type": "stream",
     "text": [
      "The price of Widget A is $19.99\n",
      "✅  SKU123 updated → {'name': 'Widget A', 'price': 21.5, 'quantity': 50}\n",
      "✅  SKU456 updated → {'name': 'Gadget B', 'price': 34.95, 'quantity': 40}\n",
      "✅  SKU789 updated → {'name': 'Gizmo\\u202fC\\u202f(2nd\\u202fGen)', 'price': 11.49, 'quantity': 80}\n",
      "❌  SKU not found.\n"
     ]
    }
   ],
   "source": [
    "# Add the SKU data provided to the product catalog dictionary\n",
    "product_catalog = {\n",
    "    \"SKU123\":{\"name\": \"Widget A\",\"price\": 19.99,\"quantity\": 50},\n",
    "    \"SKU456\" : {\"name\": \"Gadget B\",\"price\": 34.95,\"quantity\": 25},\n",
    "    \"SKU789\" : {\"name\": \"Gizmo C\",\"price\": 9.99,\"quantity\": 100},\n",
    "    \"SKU321\": {\"name\": \"New Widget\", \"price\": 29.99, \"quantity\": 30}\n",
    "    \n",
    "} \n",
    "sku_to_lookup = input(\"Enter the SKU to lookup: \")\n",
    "if sku_to_lookup in product_catalog:\n",
    "    price=product_catalog[sku_to_lookup][\"price\"]\n",
    "    print(f\"The price of {product_catalog[sku_to_lookup]['name']} is ${price}\")\n",
    "else:\n",
    "    print(\"SKU not found in catalog.\")\n",
    "    \n",
    "# Function to add a new product\n",
    "def add_product(sku, name, price , quantity):\n",
    "    if sku in product_catalog:\n",
    "        print(\"! This SKU already exist. \")\n",
    "    else:\n",
    "        product_catalog[sku]={\n",
    "            \"name\": name,\n",
    "            \"price\": price,\n",
    "            \"quantity\": quantity\n",
    "        }\n",
    "        print(f\"product '{name}' added succesfully!\")\n",
    "        \n",
    "# Function to update-function design\n",
    "def update_product(sku: str, *, name: str = None,\n",
    "                   price: float = None, quantity: int = None) -> None:\n",
    "    \"\"\"\n",
    "    Update one or more fields of a product.\n",
    "\n",
    "    Parameters\n",
    "    ----------\n",
    "    sku : str\n",
    "        SKU to update.\n",
    "    name : str, optional\n",
    "        New product name.\n",
    "    price : float, optional\n",
    "        New price.\n",
    "    quantity : int, optional\n",
    "        New quantity on hand.\n",
    "\n",
    "    Returns\n",
    "    -------\n",
    "    None\n",
    "    \"\"\"\n",
    "    product = product_catalog.get(sku)\n",
    "    if product is None:\n",
    "        print(\"❌  SKU not found.\")\n",
    "        return\n",
    "\n",
    "    if name is not None:\n",
    "        product[\"name\"] = name\n",
    "    if price is not None:\n",
    "        product[\"price\"] = price\n",
    "    if quantity is not None:\n",
    "        product[\"quantity\"] = quantity\n",
    "\n",
    "    print(f\"✅  {sku} updated → {product}\")\n",
    "# 1. Change price only\n",
    "update_product(\"SKU123\", price=21.50)\n",
    "\n",
    "# 2. Change quantity only\n",
    "update_product(\"SKU456\", quantity=40)\n",
    "\n",
    "# 3. Change name + price + quantity\n",
    "update_product(\"SKU789\", name=\"Gizmo C (2nd Gen)\", price=11.49, quantity=80)\n",
    "\n",
    "# 4. Attempt to update a non‑existent item\n",
    "update_product(\"SKU000\", price=5.00)\n",
    "\n",
    "def remove_product(sku: str) -> None:\n",
    "    \"\"\"\n",
    "    Remove a product from the catalog using its SKU.\n",
    "    \n",
    "    Args:\n",
    "        sku (str): The SKU of the product to remove.\n",
    "    \"\"\"\n",
    "    if sku in product_catalog:\n",
    "        removed = product_catalog.pop(sku)\n",
    "        print(f\"🗑️  Removed product: {sku} → {removed}\")\n",
    "    else:\n",
    "        print(\"❌  SKU not found. No product removed.\")"
   ]
  }
 ],
 "metadata": {
  "kernelspec": {
   "display_name": "CEC323",
   "language": "python",
   "name": "cec323"
  },
  "language_info": {
   "codemirror_mode": {
    "name": "ipython",
    "version": 3
   },
   "file_extension": ".py",
   "mimetype": "text/x-python",
   "name": "python",
   "nbconvert_exporter": "python",
   "pygments_lexer": "ipython3",
   "version": "3.9.13"
  }
 },
 "nbformat": 4,
 "nbformat_minor": 5
}
